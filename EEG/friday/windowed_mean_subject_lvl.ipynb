{
 "cells": [
  {
   "cell_type": "markdown",
   "metadata": {},
   "source": [
    "# Subject level windowed mean analysis\n",
    "\n",
    "This notebook demonstrates a simple analysis of epoched EEG data. It introduces the concept of a windowed mean, where two conditions are compared by taking the mean of the signal in a certain time window in relevant sensors and comparing the means. This includes some basic plotting and statistical testing using t-tests."
   ]
  },
  {
   "cell_type": "markdown",
   "metadata": {},
   "source": [
    "## Setting up Python\n",
    "First of all, we need to make sure that we are working in the `env` environment.\n",
    "\n",
    "\n",
    "1. Run `bash env_to_ipynb_kernel.sh` from the `EEG` folder if you have not already done so. This will make sure that the `env` environment is available as a kernel in this notebook.\n",
    "\n",
    "2. Press `Select Kernel`, then `Jupyter kernel...` and select `env`. If `env` does not show up, press the little refresh symbol!\n",
    "\n",
    "**Note:** You might have to install the Jupyter extension for VScode to be able to select the kernel."
   ]
  },
  {
   "cell_type": "code",
   "execution_count": null,
   "metadata": {},
   "outputs": [],
   "source": [
    "# import libraries\n",
    "import numpy as np\n",
    "import matplotlib.pyplot as plt\n",
    "from pathlib import Path\n",
    "import mne"
   ]
  },
  {
   "cell_type": "markdown",
   "metadata": {},
   "source": [
    "## Loading the data\n",
    "First, we load in preprocessed EEG data from a single subject."
   ]
  },
  {
   "cell_type": "code",
   "execution_count": null,
   "metadata": {},
   "outputs": [],
   "source": [
    "# load in the data\n",
    "\n",
    "data_path = Path(\"/work/EEG_lab/example_data\")\n",
    "\n",
    "epochs = mne.read_epochs(data_path / f\"Group1-epo.fif\", verbose=False, preload=True)\n",
    "\n",
    "# only keep eeg channels\n",
    "epochs.pick([\"eeg\"])"
   ]
  },
  {
   "cell_type": "markdown",
   "metadata": {},
   "source": [
    "## Single participant analysis\n",
    "In this note book we will compare the correct and incorrect button presses for one participant. We will do this by taking the mean of the signal in a certain time window and comparing the means. We will also plot the data and perform a t-test to see if the difference is significant.\n",
    "\n",
    "\n",
    "### Extracting data from the epochs"
   ]
  },
  {
   "cell_type": "code",
   "execution_count": null,
   "metadata": {},
   "outputs": [],
   "source": [
    "# extract the trials you are interested in\n",
    "epochs_incorrect = epochs[\"Incorrect\"] # all the button presses for incorrect trials\n",
    "epochs_correct = epochs[\"Correct\"] # all the button presses for correct trials"
   ]
  },
  {
   "cell_type": "markdown",
   "metadata": {},
   "source": [
    "Now we have our two conditions: Correct and incorrect button presses. One of the simplest way in which we can determine whether the signal in our two conditions are statistically significant is by:\n",
    "\n",
    "1. Segmenting our data to channels and a time window chosen a priori.\n",
    "\n",
    "2. Taking the mean of that window time window across channels.\n",
    "\n",
    "3. Running statistical tests on the windowed means from the two conditions.\n",
    "\n",
    "In an experiment with multiple participants we would also average over trials from individual participants, in order to only have one data point per participant (and thereby avoid multiple comparisons). However, since we have one participant (for now), we can keep one dimension of the individual data, i.e. the trials.\n",
    "\n",
    "If you are conducting a windowed mean analysis, you should rely on previous literature to determine which channels and time windows to use. \n",
    "\n",
    "**Note:** The time window and channels used in this example are arbitrarily chosen for the purpose of demonstrating how to calculate the windowed mean and run a statistical test on it."
   ]
  },
  {
   "cell_type": "markdown",
   "metadata": {},
   "source": [
    "### Preparing the data for t-test\n",
    "The aim is to conduct a t-test on the averaged data, to establish whether the means of the two conditions (correct and incorrect) are different.\n",
    "\n",
    "We can use the `get_data()` function to get the numerical values of the signal for the t-test. tmin and tmax are used to define the time window, and the picks are the channels that we expect to see an effect in."
   ]
  },
  {
   "cell_type": "code",
   "execution_count": null,
   "metadata": {},
   "outputs": [],
   "source": [
    "# chosen channels\n",
    "picks = [\"Fz\", \"Cz\", \"Pz\", \"Oz\"]\n",
    "\n",
    "# time window in seconds\n",
    "tmin = 0.2\n",
    "tmax = 0.4"
   ]
  },
  {
   "cell_type": "code",
   "execution_count": null,
   "metadata": {},
   "outputs": [],
   "source": [
    "# HINT \n",
    "# you can use the following to get the channel names\n",
    "channel_names = epochs_incorrect.ch_names\n",
    "print(channel_names)"
   ]
  },
  {
   "cell_type": "code",
   "execution_count": null,
   "metadata": {},
   "outputs": [],
   "source": [
    "# extract the data\n",
    "data_incorrect = epochs_incorrect.get_data(picks = picks, tmin = tmin, tmax = tmax)\n",
    "data_correct = epochs_correct.get_data(picks = picks, tmin = tmin, tmax = tmax)"
   ]
  },
  {
   "cell_type": "markdown",
   "metadata": {},
   "source": [
    "Investigating the resulting data; how many dimensions does the data have? What do you think they represent (i.e. which dimension is channels, trials, etc.)? Is there a difference in the number of trials between the two conditions?"
   ]
  },
  {
   "cell_type": "code",
   "execution_count": null,
   "metadata": {},
   "outputs": [],
   "source": [
    "print(data_incorrect.shape)\n",
    "print(data_correct.shape)"
   ]
  },
  {
   "cell_type": "markdown",
   "metadata": {},
   "source": [
    "Now we can average over the time window and channels to get one data point per trial. We can use the `np.mean()` function to do this, and specify the axis over which to average. "
   ]
  },
  {
   "cell_type": "code",
   "execution_count": null,
   "metadata": {},
   "outputs": [],
   "source": [
    "data_incorrect_mean = np.mean(data_incorrect, axis=2) # averaging over the third dimension of the data (time)\n",
    "print(data_incorrect_mean.shape)\n",
    "\n",
    "data_incorrect_mean = np.mean(data_incorrect_mean, axis=1) # averaging over the second dimension of the data (channels)\n",
    "print(data_incorrect_mean.shape)\n",
    "\n",
    "# you can also do this in one line\n",
    "data_correct_mean = np.mean(data_correct, axis=(1,2)) # averaging over the second and third dimension of the data (channels and time)\n",
    "print(data_correct_mean.shape)"
   ]
  },
  {
   "cell_type": "markdown",
   "metadata": {},
   "source": [
    "### Running the t-test\n",
    "Now that we have one numerical value per trial, we can compare the means of the two conditions using a t-test. We can use the `scipy.stats.ttest_ind()` function to do this."
   ]
  },
  {
   "cell_type": "code",
   "execution_count": null,
   "metadata": {},
   "outputs": [],
   "source": [
    "from scipy import stats"
   ]
  },
  {
   "cell_type": "code",
   "execution_count": null,
   "metadata": {},
   "outputs": [],
   "source": [
    "stats.ttest_ind(data_correct_mean, data_incorrect_mean)"
   ]
  },
  {
   "cell_type": "markdown",
   "metadata": {},
   "source": [
    "### Plotting\n",
    "Now lets create a plot of the time courses averaged over time and channels, where we also plot the time window that we used for the t-test."
   ]
  },
  {
   "cell_type": "code",
   "execution_count": null,
   "metadata": {},
   "outputs": [],
   "source": [
    "plot_data_incorrect = epochs_incorrect.get_data(copy = True).mean(axis=(0, 1))\n",
    "plot_data_correct = epochs_correct.get_data(copy = True).mean(axis=(0, 1))\n",
    "\n",
    "times = epochs_incorrect.times\n",
    "\n",
    "fig, ax = plt.subplots(1, figsize=(10, 5), dpi=300)\n",
    "\n",
    "# plot the time window\n",
    "ax.axvspan(tmin, tmax, color=\"grey\", alpha=0.2)\n",
    "\n",
    "# plot the time course\n",
    "ax.plot(times, plot_data_incorrect.T, label=\"Incorrect\")\n",
    "ax.plot(times, plot_data_correct.T, label=\"Correct\")\n",
    "\n",
    "# vertical line at 0\n",
    "ax.axvline(x=0, color=\"black\", linestyle=\"--\", label = \"Button press\", linewidth=1)\n",
    "\n",
    "ax.set(xlabel=\"Time (s)\", ylabel=\"Amplitude\", title=\"ERP\")\n",
    "ax.legend()"
   ]
  }
 ],
 "metadata": {
  "kernelspec": {
   "display_name": "env",
   "language": "python",
   "name": "env"
  },
  "language_info": {
   "codemirror_mode": {
    "name": "ipython",
    "version": 3
   },
   "file_extension": ".py",
   "mimetype": "text/x-python",
   "name": "python",
   "nbconvert_exporter": "python",
   "pygments_lexer": "ipython3",
   "version": "3.10.12"
  }
 },
 "nbformat": 4,
 "nbformat_minor": 2
}
