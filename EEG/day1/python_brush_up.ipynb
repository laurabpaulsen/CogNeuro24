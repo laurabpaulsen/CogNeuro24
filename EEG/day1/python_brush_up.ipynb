{
 "cells": [
  {
   "attachments": {},
   "cell_type": "markdown",
   "metadata": {},
   "source": []
  },
  {
   "cell_type": "markdown",
   "metadata": {},
   "source": [
    "# Python brush-up\n",
    "The aim of this notebook is to give a brief overview of some python skills that will be useful when working with EEG data and the `MNE-python` package. \n",
    "\n",
    "The notebook is divided into two parts:\n",
    "1. Python classes\n",
    "2. Numpy basics"
   ]
  },
  {
   "cell_type": "markdown",
   "metadata": {},
   "source": [
    "## 1. Python classes\n",
    "Python is a programming language which allows for object-oriented programming. The basic idea, is that it is possible to combine both data and methods into a single unit (known as an object) which operate on the data.\n",
    "\n",
    "To begin, a class must be defined, which serves as the blueprint for creating objects. \n",
    "\n",
    "\n",
    "Let's use the following example:"
   ]
  },
  {
   "cell_type": "code",
   "execution_count": 2,
   "metadata": {},
   "outputs": [],
   "source": [
    "class Dog:\n",
    "    def __init__(self, name, breed, age):\n",
    "        self.name = name\n",
    "        self.breed = breed\n",
    "        self.age = age\n",
    "    \n",
    "    # defining methods\n",
    "    def bark(self):\n",
    "        print(\"Woof woof!\")\n",
    "    \n",
    "    def introduce(self):\n",
    "        print(\"My name is \" + self.name + \" and I am a \" + self.breed + \".\") \n",
    "\n",
    "    def birthday(self):\n",
    "        self.age += 1"
   ]
  },
  {
   "attachments": {},
   "cell_type": "markdown",
   "metadata": {},
   "source": [
    "#### init\n",
    "`__init__` is a special method in Python classes, also known as a constructor method. It is automatically called when an object of the class is created and is used to initialise the attributes of the object.\n",
    "\n",
    "In the example class Dog, `__init__ `takes three arguments: name, breed and age. These values are passed to the method when an object of the class is created, and are used to initialise the name and breed attributes of the object.\n",
    "\n",
    "### self\n",
    "In Python, the `self` keyword is used to refer to the current instance of a class. It is used to access and modify the attributes and methods of the current object.\n",
    "\n",
    "When a method is called on an object, the object is automatically passed as the first argument to the method. This first argument is typically named self by convention, but it can be named anything.\n",
    "\n",
    "For example, in the the birthday method, `self.age` is used to access the age attribute of the object.\n",
    "\n",
    "It is worth noting that when you call a method on an object, you don't need to pass the self argument, python takes care of passing it when using the syntax seen in the following code chunk. "
   ]
  },
  {
   "cell_type": "code",
   "execution_count": 3,
   "metadata": {},
   "outputs": [
    {
     "name": "stdout",
     "output_type": "stream",
     "text": [
      "Woof woof!\n",
      "My name is Simba and I am a Cocker Spaniel.\n",
      "3\n"
     ]
    }
   ],
   "source": [
    "dog = Dog(\"Simba\", \"Cocker Spaniel\", 3)\n",
    "\n",
    "# using the bark method\n",
    "dog.bark()\n",
    "\n",
    "# using the introduce method\n",
    "dog.introduce()\n",
    "\n",
    "# checking the age\n",
    "print(dog.age)"
   ]
  },
  {
   "attachments": {},
   "cell_type": "markdown",
   "metadata": {},
   "source": [
    "The two methods above did not change the object. However, some methods defined might change the attributes or behavior of the object. These are known as mutator methods. In the example class Dog, the birthday method is an example of a mutator method, as it changes the age attribute of the object. On the other hand, the bark and introduce methods are known as accessor methods, as they do not modify the state of the object, they only return or print information about the object.\n",
    "\n",
    "Let's test it out!"
   ]
  },
  {
   "cell_type": "code",
   "execution_count": 4,
   "metadata": {},
   "outputs": [
    {
     "name": "stdout",
     "output_type": "stream",
     "text": [
      "Before Simbas birthday, the dog was 3.\n",
      "After Simbas birthday, the dog is 4.\n"
     ]
    }
   ],
   "source": [
    "print(f'Before {dog.name}s birthday, the dog was {dog.age}.')\n",
    "\n",
    "dog.birthday()\n",
    "\n",
    "print(f'After {dog.name}s birthday, the dog is {dog.age}.')"
   ]
  },
  {
   "attachments": {},
   "cell_type": "markdown",
   "metadata": {},
   "source": [
    "### MNE classes"
   ]
  },
  {
   "attachments": {},
   "cell_type": "markdown",
   "metadata": {},
   "source": [
    "The MNE toolkit is a library for processing of electrophysiological data, such as EEG and MEG, and it provides several classes that represent different types of data. The `Raw`, `Epochs`, and `Evoked` are examples of these classes and all have associated methods that can be used to manipulate and analyse the data they represent.\n",
    "\n",
    "* The `Raw` class is used to represent continuous data, such as raw EEG recordings. It includes methods for filtering, dropping bad channels, plotting, resampling, and so forth.\n",
    "\n",
    "* The `Epochs` class contains data that has been segmented into \"epochs\" or time windows of interest. It includes methods for averaging, baseline correction, and plotting.\n",
    "\n",
    "* The `Evoked` class is used to represent the average response to a specific stimulus or condition. It includes methods for plotting and statistics.\n",
    "\n",
    "\n",
    "Some methods of the classes modify the object in place such as the Raw.filter() method. This means that the object is modified and no new object is returned. This is different from the Epochs.average() method which returns a new Evoked object. By modifying in place memory is saved as the original object is not copied."
   ]
  },
  {
   "cell_type": "markdown",
   "metadata": {},
   "source": [
    "## 2. Numpy basics\n",
    "In this section we will cover some basic numpy operations that will be useful when working with EEG data. As EEG epoched data has three dimensions (time, channels, trials), it can be useful to have an intuitive understanding of how to manipulate these dimensions."
   ]
  },
  {
   "cell_type": "code",
   "execution_count": 1,
   "metadata": {},
   "outputs": [],
   "source": [
    "import numpy as np"
   ]
  },
  {
   "cell_type": "markdown",
   "metadata": {},
   "source": [
    "We start by defining an array of random numbers, which we will use to illustrate the different operations. Let's pretend it is epoched EEG data from 60 sensors, 200 time points, and 50 trials"
   ]
  },
  {
   "cell_type": "code",
   "execution_count": 6,
   "metadata": {},
   "outputs": [
    {
     "name": "stdout",
     "output_type": "stream",
     "text": [
      "(50, 60, 200)\n",
      "[[[0.05017391 0.19390006 0.57630661 ... 0.75306148 0.61462096 0.59377528]\n",
      "  [0.25452629 0.92540862 0.96634074 ... 0.13366413 0.53700582 0.7344159 ]\n",
      "  [0.05557161 0.54621973 0.58468124 ... 0.38833852 0.55875184 0.32331538]\n",
      "  ...\n",
      "  [0.19670757 0.6832596  0.17194067 ... 0.30653204 0.65660018 0.77513761]\n",
      "  [0.16486988 0.61006166 0.89753683 ... 0.51630285 0.70822291 0.50822757]\n",
      "  [0.92205561 0.05835196 0.10319847 ... 0.23737253 0.80887616 0.10336871]]\n",
      "\n",
      " [[0.78573597 0.69699897 0.53824711 ... 0.02874015 0.20607555 0.19174464]\n",
      "  [0.29461601 0.92052694 0.7281628  ... 0.06167222 0.475073   0.4363058 ]\n",
      "  [0.31277496 0.14517698 0.3986786  ... 0.81042185 0.37002582 0.90938194]\n",
      "  ...\n",
      "  [0.78224069 0.77220974 0.04318761 ... 0.88765731 0.24403219 0.9425377 ]\n",
      "  [0.9235198  0.02528109 0.55695457 ... 0.357002   0.72393419 0.04957901]\n",
      "  [0.80874805 0.19504466 0.16204066 ... 0.18101831 0.44133161 0.03108572]]\n",
      "\n",
      " [[0.72369079 0.8182676  0.33923842 ... 0.40767163 0.26958999 0.83229979]\n",
      "  [0.07567606 0.25597642 0.9110006  ... 0.13420555 0.35674049 0.67293147]\n",
      "  [0.69071514 0.04169032 0.72986544 ... 0.37649371 0.12320035 0.41309994]\n",
      "  ...\n",
      "  [0.81103769 0.77371876 0.04405704 ... 0.15990169 0.03343934 0.99173789]\n",
      "  [0.8588389  0.77696698 0.41982284 ... 0.06826466 0.64877842 0.43767134]\n",
      "  [0.0484765  0.85973725 0.85813044 ... 0.5651377  0.11539771 0.52859094]]\n",
      "\n",
      " ...\n",
      "\n",
      " [[0.31074644 0.50163931 0.08324289 ... 0.05727421 0.84279356 0.8682663 ]\n",
      "  [0.67434413 0.13082371 0.13563531 ... 0.06428989 0.34798698 0.26938967]\n",
      "  [0.44957986 0.55872705 0.77806765 ... 0.68467862 0.90544937 0.40978773]\n",
      "  ...\n",
      "  [0.77033094 0.7559762  0.59943078 ... 0.67577004 0.75374627 0.49824998]\n",
      "  [0.83710933 0.81297587 0.7059391  ... 0.24462334 0.29137405 0.64766571]\n",
      "  [0.20209712 0.96913306 0.98213236 ... 0.35038931 0.76135136 0.1635472 ]]\n",
      "\n",
      " [[0.0088636  0.73973428 0.5878744  ... 0.8391121  0.55426392 0.96653669]\n",
      "  [0.51976531 0.8114868  0.10843726 ... 0.89713343 0.73746967 0.52903193]\n",
      "  [0.99418731 0.35997528 0.52749087 ... 0.90759165 0.62873619 0.7682585 ]\n",
      "  ...\n",
      "  [0.10259454 0.41005243 0.80152798 ... 0.80098754 0.19372402 0.88691235]\n",
      "  [0.85687121 0.50159557 0.64781332 ... 0.94017946 0.63196927 0.02014583]\n",
      "  [0.84716873 0.38633118 0.34101828 ... 0.96793987 0.41594966 0.82763451]]\n",
      "\n",
      " [[0.73213804 0.07100156 0.92761074 ... 0.24386798 0.13104146 0.44969615]\n",
      "  [0.31544322 0.66005044 0.91625616 ... 0.98701294 0.31527072 0.1584756 ]\n",
      "  [0.28617151 0.22244962 0.82850494 ... 0.79040839 0.74293177 0.91494622]\n",
      "  ...\n",
      "  [0.18227705 0.96792365 0.0464403  ... 0.41327108 0.14994259 0.52708525]\n",
      "  [0.8282649  0.1861597  0.91116804 ... 0.91056683 0.55255806 0.42898767]\n",
      "  [0.2391202  0.20609348 0.04989966 ... 0.74450271 0.14552551 0.55417288]]]\n"
     ]
    }
   ],
   "source": [
    "# create a 3d array \n",
    "arr = np.random.random((50, 60, 200)) # trial, sensor, time\n",
    "\n",
    "# check that the shape is what we expect\n",
    "print(arr.shape)\n",
    "\n",
    "# print the array\n",
    "print(arr)"
   ]
  },
  {
   "cell_type": "markdown",
   "metadata": {},
   "source": [
    "If we want to investigate the evoked response (i.e. the average response across trials and sensors), we can use the `mean` method."
   ]
  },
  {
   "cell_type": "code",
   "execution_count": 9,
   "metadata": {},
   "outputs": [
    {
     "name": "stdout",
     "output_type": "stream",
     "text": [
      "(200,)\n"
     ]
    }
   ],
   "source": [
    "evoked = np.mean(arr, axis=(0, 1))\n",
    "print(evoked.shape)"
   ]
  },
  {
   "cell_type": "markdown",
   "metadata": {},
   "source": [
    "**Q:** What happend to the dimensions of the array? **A:**"
   ]
  },
  {
   "cell_type": "markdown",
   "metadata": {},
   "source": [
    "Let's say we want to calculate the evoked response for a specific sensor. Then we need to first select the sensor dimension, and then calculate the mean across the trial dimension."
   ]
  },
  {
   "cell_type": "code",
   "execution_count": 10,
   "metadata": {},
   "outputs": [
    {
     "name": "stdout",
     "output_type": "stream",
     "text": [
      "(50, 200)\n",
      "(200,)\n"
     ]
    }
   ],
   "source": [
    "arr_sens_1 = arr[:, 0, :]\n",
    "print(arr_sens_1.shape)\n",
    "\n",
    "evoked_sens_1 = np.mean(arr_sens_1, axis=0)\n",
    "print(evoked_sens_1.shape)"
   ]
  }
 ],
 "metadata": {
  "kernelspec": {
   "display_name": "env",
   "language": "python",
   "name": "env"
  },
  "language_info": {
   "codemirror_mode": {
    "name": "ipython",
    "version": 3
   },
   "file_extension": ".py",
   "mimetype": "text/x-python",
   "name": "python",
   "nbconvert_exporter": "python",
   "pygments_lexer": "ipython3",
   "version": "3.10.12"
  },
  "orig_nbformat": 4,
  "vscode": {
   "interpreter": {
    "hash": "31f2aee4e71d21fbe5cf8b01ff0e069b9275f58929596ceb00d14d90e3e16cd6"
   }
  }
 },
 "nbformat": 4,
 "nbformat_minor": 2
}
