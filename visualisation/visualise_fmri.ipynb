{
 "cells": [
  {
   "cell_type": "markdown",
   "source": [
    "# Visualizing fMRI resutls \n",
    "\n",
    "- Whihc slices/planes are better for visualizing the results? \n",
    "- Marker at specific coordinates \n",
    "- Results at specific slices \n",
    "- Stimulus-dependent activity distribution at specific voxel/voxels \n",
    "- Surface maps \n",
    "- Flat maps \n",
    "- Combining plots of differnet effects/interaction effects/opposing effects "
   ],
   "metadata": {}
  },
  {
   "cell_type": "markdown",
   "source": [
    "## Aim of analysis \n",
    "The data were analyzed to determine whether each stimulus category evoked a pattern of response in the ventral object vision pathway that could be distinguished from the patterns of response evoked by all other individual categories."
   ],
   "metadata": {}
  },
  {
   "cell_type": "markdown",
   "source": [
    "## Load face percpetion dataset "
   ],
   "metadata": {}
  },
  {
   "cell_type": "code",
   "execution_count": 9,
   "source": [
    "from nilearn.datasets import fetch_bids_langloc_dataset\n",
    "\n",
    "data_dir, _ = fetch_bids_langloc_dataset()"
   ],
   "outputs": [
    {
     "output_type": "stream",
     "name": "stdout",
     "text": [
      "\n",
      "Dataset created in /Users/au553087/nilearn_data/bids_langloc_example\n",
      "\n",
      "Downloading data from https://files.osf.io/v1/resources/9q7dv/providers/osfstorage/5888d9a76c613b01fc6acc4e ...\n"
     ]
    },
    {
     "output_type": "stream",
     "name": "stderr",
     "text": [
      "Downloaded 743309312 of 749503187 bytes (99.2%,    0.2s remaining) ...done. (30 seconds, 0 min)\n",
      "Extracting data from /Users/au553087/nilearn_data/bids_langloc_example/bids_langloc_dataset.zip..... done.\n"
     ]
    }
   ],
   "metadata": {}
  },
  {
   "cell_type": "code",
   "execution_count": 10,
   "source": [
    "data_dir "
   ],
   "outputs": [
    {
     "output_type": "execute_result",
     "data": {
      "text/plain": [
       "'/Users/au553087/nilearn_data/bids_langloc_example/bids_langloc_dataset'"
      ]
     },
     "metadata": {},
     "execution_count": 10
    }
   ],
   "metadata": {}
  },
  {
   "cell_type": "code",
   "execution_count": null,
   "source": [],
   "outputs": [],
   "metadata": {}
  }
 ],
 "metadata": {
  "orig_nbformat": 4,
  "language_info": {
   "name": "python",
   "version": "3.8.8",
   "mimetype": "text/x-python",
   "codemirror_mode": {
    "name": "ipython",
    "version": 3
   },
   "pygments_lexer": "ipython3",
   "nbconvert_exporter": "python",
   "file_extension": ".py"
  },
  "kernelspec": {
   "name": "python3",
   "display_name": "Python 3.8.8 64-bit ('base': conda)"
  },
  "interpreter": {
   "hash": "a276d0263025337512ce9ec5027efd1b77b1d0595c2302ce36c77403d6c38682"
  }
 },
 "nbformat": 4,
 "nbformat_minor": 2
}